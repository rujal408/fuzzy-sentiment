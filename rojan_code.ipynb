{
  "cells": [
    {
      "cell_type": "code",
      "execution_count": null,
      "metadata": {
        "id": "TUR8xuw4Frva"
      },
      "outputs": [],
      "source": [
        "import pandas as pd\n",
        "import numpy as np\n",
        "from sklearn.feature_extraction.text import TfidfVectorizer\n",
        "from sklearn.model_selection import train_test_split\n",
        "from sklearn.linear_model import LogisticRegression\n",
        "from sklearn.svm import SVC\n",
        "from sklearn.metrics import accuracy_score\n",
        "from tensorflow.keras.preprocessing.text import Tokenizer\n",
        "from tensorflow.keras.preprocessing.sequence import pad_sequences\n",
        "from tensorflow.keras.models import Sequential\n",
        "from tensorflow.keras.layers import Embedding, Bidirectional, LSTM, Dense, Dropout\n",
        "from sklearn.ensemble import VotingClassifier\n",
        "from nltk.sentiment.vader import SentimentIntensityAnalyzer"
      ]
    },
    {
      "cell_type": "code",
      "source": [
        "csv_data = pd.read_csv('extended_googleplaystore_user_reviews.csv', error_bad_lines=False)\n",
        "csv_data = csv_data[csv_data['Translated_Review'].notna()]\n",
        "X = csv_data['Translated_Review']"
      ],
      "metadata": {
        "colab": {
          "base_uri": "https://localhost:8080/"
        },
        "id": "5ZXIUjqRI3LZ",
        "outputId": "da975ecf-f652-457b-86db-d23b42030ea9"
      },
      "execution_count": null,
      "outputs": [
        {
          "output_type": "stream",
          "name": "stderr",
          "text": [
            "<ipython-input-3-22c5ed21885d>:1: FutureWarning: The error_bad_lines argument has been deprecated and will be removed in a future version. Use on_bad_lines in the future.\n",
            "\n",
            "\n",
            "  csv_data = pd.read_csv('extended_googleplaystore_user_reviews.csv', error_bad_lines=False)\n"
          ]
        }
      ]
    },
    {
      "cell_type": "code",
      "source": [
        "class SentimentSatisfaction:\n",
        "    def __init__(self, satisfaction_index):\n",
        "        self.satisfaction_index = satisfaction_index\n",
        "        \n",
        "    def get_sentiment_satisfaction(self):\n",
        "        if self.satisfaction_index <= -0.6:\n",
        "            return 0\n",
        "        elif self.satisfaction_index <= -0.2:\n",
        "            return 1\n",
        "        elif self.satisfaction_index <= 0.2:\n",
        "            return 2\n",
        "        elif self.satisfaction_index <= 0.6:\n",
        "            return 3\n",
        "        else:\n",
        "            return 4\n",
        "\n",
        "# Map sentiment class labels\n",
        "satisfaction_class = {\n",
        "    \"very_negative\": 0,\n",
        "    \"negative\": 1,\n",
        "    \"neutral\": 2,\n",
        "    \"positive\": 3,\n",
        "    \"very_positive\": 4\n",
        "}\n",
        "csv_data['result'] = csv_data['original_Sentiment_Polarity'].apply(lambda x: SentimentSatisfaction(x).get_sentiment_satisfaction())"
      ],
      "metadata": {
        "id": "wxCxfDHXIBqA",
        "colab": {
          "base_uri": "https://localhost:8080/",
          "height": 219
        },
        "outputId": "6db1830a-3b67-43d9-a02f-f0dfe30491bf"
      },
      "execution_count": null,
      "outputs": [
        {
          "output_type": "error",
          "ename": "NameError",
          "evalue": "ignored",
          "traceback": [
            "\u001b[0;31m---------------------------------------------------------------------------\u001b[0m",
            "\u001b[0;31mNameError\u001b[0m                                 Traceback (most recent call last)",
            "\u001b[0;32m<ipython-input-1-6eb2ea0df72d>\u001b[0m in \u001b[0;36m<cell line: 26>\u001b[0;34m()\u001b[0m\n\u001b[1;32m     24\u001b[0m     \u001b[0;34m\"very_positive\"\u001b[0m\u001b[0;34m:\u001b[0m \u001b[0;36m4\u001b[0m\u001b[0;34m\u001b[0m\u001b[0;34m\u001b[0m\u001b[0m\n\u001b[1;32m     25\u001b[0m }\n\u001b[0;32m---> 26\u001b[0;31m \u001b[0mcsv_data\u001b[0m\u001b[0;34m[\u001b[0m\u001b[0;34m'result'\u001b[0m\u001b[0;34m]\u001b[0m \u001b[0;34m=\u001b[0m \u001b[0mcsv_data\u001b[0m\u001b[0;34m[\u001b[0m\u001b[0;34m'original_Sentiment_Polarity'\u001b[0m\u001b[0;34m]\u001b[0m\u001b[0;34m.\u001b[0m\u001b[0mapply\u001b[0m\u001b[0;34m(\u001b[0m\u001b[0;32mlambda\u001b[0m \u001b[0mx\u001b[0m\u001b[0;34m:\u001b[0m \u001b[0mSentimentSatisfaction\u001b[0m\u001b[0;34m(\u001b[0m\u001b[0mx\u001b[0m\u001b[0;34m)\u001b[0m\u001b[0;34m.\u001b[0m\u001b[0mget_sentiment_satisfaction\u001b[0m\u001b[0;34m(\u001b[0m\u001b[0;34m)\u001b[0m\u001b[0;34m)\u001b[0m\u001b[0;34m\u001b[0m\u001b[0;34m\u001b[0m\u001b[0m\n\u001b[0m",
            "\u001b[0;31mNameError\u001b[0m: name 'csv_data' is not defined"
          ]
        }
      ]
    },
    {
      "cell_type": "code",
      "source": [
        "y = csv_data['result']\n",
        "X_train, X_test, y_train, y_test = train_test_split(X, y, test_size=0.2, random_state=42)"
      ],
      "metadata": {
        "id": "aAkkrmZlIlc0"
      },
      "execution_count": null,
      "outputs": []
    },
    {
      "cell_type": "code",
      "source": [
        "# vectorizeing the text data\n",
        "vectorizer = TfidfVectorizer()\n",
        "X_train_vectorized = vectorizer.fit_transform(X_train)\n",
        "X_test_vectorized = vectorizer.transform(X_test)"
      ],
      "metadata": {
        "id": "66tufjZTJoQ-"
      },
      "execution_count": null,
      "outputs": []
    },
    {
      "cell_type": "code",
      "source": [
        "# LR model\n",
        "lr_model = LogisticRegression()\n",
        "lr_model.fit(X_train_vectorized, y_train)\n",
        "lr_preds = lr_model.predict(X_test_vectorized)\n",
        "print('Logistic Regression Accuracy:', accuracy_score(y_test, lr_preds))\n"
      ],
      "metadata": {
        "id": "VMON5KSuJylF"
      },
      "execution_count": null,
      "outputs": []
    },
    {
      "cell_type": "code",
      "source": [
        "# svm\n",
        "svm_model = SVC(probability=True)\n",
        "svm_model.fit(X_train_vectorized, y_train)\n",
        "svm_preds = svm_model.predict(X_test_vectorized)\n",
        "print('SVM Accuracy:', accuracy_score(y_test, svm_preds))"
      ],
      "metadata": {
        "colab": {
          "base_uri": "https://localhost:8080/"
        },
        "id": "fZQeip_8KK1U",
        "outputId": "8a518050-b372-4481-b53c-c7414dfa3003"
      },
      "execution_count": null,
      "outputs": [
        {
          "output_type": "stream",
          "name": "stdout",
          "text": [
            "SVM Accuracy: 0.7972972972972973\n"
          ]
        }
      ]
    },
    {
      "cell_type": "code",
      "source": [
        "# BiLSTM model\n",
        "tokenizer = Tokenizer()\n",
        "tokenizer.fit_on_texts(X_train)\n",
        "X_train_sequences = tokenizer.texts_to_sequences(X_train)\n",
        "X_test_sequences = tokenizer.texts_to_sequences(X_test)\n",
        "vocab_size = len(tokenizer.word_index) + 1\n",
        "max_len = 100\n",
        "X_train_padded = pad_sequences(X_train_sequences, maxlen=max_len, padding='post')\n",
        "X_test_padded = pad_sequences(X_test_sequences, maxlen=max_len, padding='post')\n",
        "\n",
        "bi_model = Sequential()\n",
        "bi_model.add(Embedding(vocab_size, 100, input_length=max_len))\n",
        "bi_model.add(Bidirectional(LSTM(128)))\n",
        "bi_model.add(Dropout(0.5))\n",
        "bi_model.add(Dense(5, activation='softmax'))\n",
        "bi_model.compile(loss='sparse_categorical_crossentropy', optimizer='adam', metrics=['accuracy'])\n",
        "bi_model.fit(X_train_padded, y_train, validation_data=(X_test_padded, y_test), epochs=10, batch_size=32)"
      ],
      "metadata": {
        "colab": {
          "base_uri": "https://localhost:8080/"
        },
        "id": "9fUDAE52KOeQ",
        "outputId": "d1305ee8-af7c-4f16-ba0c-3346a177f667"
      },
      "execution_count": null,
      "outputs": [
        {
          "output_type": "stream",
          "name": "stdout",
          "text": [
            "Epoch 1/10\n",
            "315/315 [==============================] - 134s 411ms/step - loss: 0.9861 - accuracy: 0.6087 - val_loss: 0.6526 - val_accuracy: 0.7599\n",
            "Epoch 2/10\n",
            "315/315 [==============================] - 128s 406ms/step - loss: 0.4710 - accuracy: 0.8339 - val_loss: 0.5135 - val_accuracy: 0.8120\n",
            "Epoch 3/10\n",
            "315/315 [==============================] - 129s 410ms/step - loss: 0.2714 - accuracy: 0.9086 - val_loss: 0.5843 - val_accuracy: 0.8076\n",
            "Epoch 4/10\n",
            "315/315 [==============================] - 131s 415ms/step - loss: 0.1732 - accuracy: 0.9439 - val_loss: 0.5722 - val_accuracy: 0.8263\n",
            "Epoch 5/10\n",
            "315/315 [==============================] - 126s 400ms/step - loss: 0.1615 - accuracy: 0.9472 - val_loss: 0.6114 - val_accuracy: 0.8192\n",
            "Epoch 6/10\n",
            "315/315 [==============================] - 127s 405ms/step - loss: 0.1167 - accuracy: 0.9630 - val_loss: 0.6668 - val_accuracy: 0.8211\n",
            "Epoch 7/10\n",
            "315/315 [==============================] - 131s 415ms/step - loss: 0.0827 - accuracy: 0.9760 - val_loss: 0.6694 - val_accuracy: 0.8112\n",
            "Epoch 8/10\n",
            "315/315 [==============================] - 130s 411ms/step - loss: 0.0595 - accuracy: 0.9824 - val_loss: 0.7401 - val_accuracy: 0.8271\n",
            "Epoch 9/10\n",
            "315/315 [==============================] - 131s 414ms/step - loss: 0.0490 - accuracy: 0.9861 - val_loss: 0.8415 - val_accuracy: 0.8180\n",
            "Epoch 10/10\n",
            "315/315 [==============================] - 132s 418ms/step - loss: 0.0466 - accuracy: 0.9859 - val_loss: 0.8648 - val_accuracy: 0.8180\n"
          ]
        },
        {
          "output_type": "execute_result",
          "data": {
            "text/plain": [
              "<keras.callbacks.History at 0x7fed525f2ec0>"
            ]
          },
          "metadata": {},
          "execution_count": 9
        }
      ]
    },
    {
      "cell_type": "code",
      "source": [
        "# predicting using BiLSTM model\n",
        "bi_preds_prob = bi_model.predict(X_test_padded)\n",
        "bi_preds = np.argmax(bi_preds_prob, axis=1)\n",
        "print('BiLSTM Accuracy:', accuracy_score(y_test, bi_preds))"
      ],
      "metadata": {
        "colab": {
          "base_uri": "https://localhost:8080/"
        },
        "id": "Vwvx2oUWKUGX",
        "outputId": "be640f21-2b0e-42af-ca9f-69e9274f335a"
      },
      "execution_count": null,
      "outputs": [
        {
          "output_type": "stream",
          "name": "stdout",
          "text": [
            "79/79 [==============================] - 13s 136ms/step\n",
            "BiLSTM Accuracy: 0.8179650238473768\n"
          ]
        }
      ]
    },
    {
      "cell_type": "code",
      "source": [
        "# voting Classifier 1 (SVM and Logistic Regression)\n",
        "voting_clf1 = VotingClassifier(estimators=[('lr', lr_model), ('svm', svm_model)], voting='soft')\n",
        "voting_clf1.fit(X_train_vectorized, y_train)\n",
        "voting_preds1 = voting_clf1.predict(X_test_vectorized)\n",
        "print('Voting Classifier 1 Accuracy:', accuracy_score(y_test, voting_preds1))"
      ],
      "metadata": {
        "colab": {
          "base_uri": "https://localhost:8080/"
        },
        "id": "TthfjS9qKcEr",
        "outputId": "9c395565-a606-4aa2-8ea8-c9a6fbccee97"
      },
      "execution_count": null,
      "outputs": [
        {
          "output_type": "stream",
          "name": "stdout",
          "text": [
            "Voting Classifier 1 Accuracy: 0.8215421303656598\n"
          ]
        }
      ]
    },
    {
      "cell_type": "code",
      "source": [
        "import nltk\n",
        "nltk.download('vader_lexicon')\n",
        "analyzer = SentimentIntensityAnalyzer()\n",
        "vader_preds = [analyzer.polarity_scores(review)['compound'] for review in X_test]\n",
        "vader_preds = [SentimentSatisfaction(pred).get_sentiment_satisfaction() for pred in vader_preds]\n",
        "print('VADER Accuracy:', accuracy_score(y_test,vader_preds))"
      ],
      "metadata": {
        "colab": {
          "base_uri": "https://localhost:8080/"
        },
        "id": "CNCJxzQzKgxw",
        "outputId": "b6aae785-f851-4d19-d1ed-43c5dc1bb3d0"
      },
      "execution_count": null,
      "outputs": [
        {
          "output_type": "stream",
          "name": "stderr",
          "text": [
            "[nltk_data] Downloading package vader_lexicon to /root/nltk_data...\n"
          ]
        },
        {
          "output_type": "stream",
          "name": "stdout",
          "text": [
            "VADER Accuracy: 0.33465818759936405\n"
          ]
        }
      ]
    },
    {
      "cell_type": "code",
      "source": [
        "# from keras.wrappers.scikit_learn import KerasClassifier\n",
        "!pip install scikeras\n",
        "from keras.models import Sequential\n",
        "from keras.layers import Embedding, LSTM, Dense, Bidirectional\n",
        "from scikeras.wrappers import KerasClassifier\n",
        "\n",
        "# defineing a function to create the BiLSTM model\n",
        "def create_bi_model():\n",
        "    bi_model = Sequential()\n",
        "    bi_model.add(Embedding(vocab_size, 100, input_length=max_len))\n",
        "    bi_model.add(Bidirectional(LSTM(128)))\n",
        "    bi_model.add(Dense(5, activation='softmax'))\n",
        "    bi_model.compile(loss='sparse_categorical_crossentropy', optimizer='adam', metrics=['accuracy'])\n",
        "    bi_model.fit(X_train_padded, y_train, validation_data=(X_test_padded, y_test), epochs=10, batch_size=32)\n",
        "    return bi_model\n",
        "\n",
        "# creating a KerasClassifier with the BiLSTM model function\n",
        "bi_classifier = KerasClassifier(build_fn=create_bi_model)\n",
        "\n",
        "# Creating the second VotingClassifier with bi_classifier and voting_clf1\n",
        "voting_clf2 = VotingClassifier(estimators=[('bi_lstm', bi_classifier), ('voting_clf1', voting_clf1)], voting='soft')\n",
        "voting_clf2.fit(X_train_padded, y_train)\n",
        "voting_preds2 = voting_clf2.predict(X_test_padded)\n",
        "print('Voting Classifier 2 Accuracy:', accuracy_score(y_test, voting_preds2))\n"
      ],
      "metadata": {
        "colab": {
          "base_uri": "https://localhost:8080/"
        },
        "id": "119H2DrvKs4N",
        "outputId": "8a9f3cff-68bc-4fab-94c7-9431d6ed4ea2"
      },
      "execution_count": null,
      "outputs": [
        {
          "output_type": "stream",
          "name": "stderr",
          "text": [
            "/usr/local/lib/python3.10/dist-packages/scikeras/wrappers.py:301: UserWarning: ``build_fn`` will be renamed to ``model`` in a future release, at which point use of ``build_fn`` will raise an Error instead.\n",
            "  warnings.warn(\n"
          ]
        },
        {
          "output_type": "stream",
          "name": "stdout",
          "text": [
            "Epoch 1/10\n",
            "315/315 [==============================] - 147s 451ms/step - loss: 0.9326 - accuracy: 0.6394 - val_loss: 0.6566 - val_accuracy: 0.7492\n",
            "Epoch 2/10\n",
            "315/315 [==============================] - 131s 415ms/step - loss: 0.4440 - accuracy: 0.8417 - val_loss: 0.5171 - val_accuracy: 0.8192\n",
            "Epoch 3/10\n",
            "315/315 [==============================] - 128s 405ms/step - loss: 0.2431 - accuracy: 0.9208 - val_loss: 0.5656 - val_accuracy: 0.8164\n",
            "Epoch 4/10\n",
            "315/315 [==============================] - 132s 419ms/step - loss: 0.1506 - accuracy: 0.9509 - val_loss: 0.5621 - val_accuracy: 0.8474\n",
            "Epoch 5/10\n",
            "315/315 [==============================] - 130s 413ms/step - loss: 0.0987 - accuracy: 0.9708 - val_loss: 0.5845 - val_accuracy: 0.8359\n",
            "Epoch 6/10\n",
            "315/315 [==============================] - 134s 425ms/step - loss: 0.0970 - accuracy: 0.9693 - val_loss: 0.6002 - val_accuracy: 0.8307\n",
            "Epoch 7/10\n",
            "315/315 [==============================] - 135s 430ms/step - loss: 0.0642 - accuracy: 0.9812 - val_loss: 0.6524 - val_accuracy: 0.8335\n",
            "Epoch 8/10\n",
            "315/315 [==============================] - 131s 415ms/step - loss: 0.0473 - accuracy: 0.9867 - val_loss: 0.7489 - val_accuracy: 0.8283\n",
            "Epoch 9/10\n",
            "315/315 [==============================] - 130s 412ms/step - loss: 0.0405 - accuracy: 0.9890 - val_loss: 0.7618 - val_accuracy: 0.8327\n",
            "Epoch 10/10\n",
            "315/315 [==============================] - 128s 406ms/step - loss: 0.0272 - accuracy: 0.9929 - val_loss: 0.8136 - val_accuracy: 0.8331\n",
            "315/315 [==============================] - 123s 382ms/step - loss: 0.0214 - accuracy: 0.9941\n"
          ]
        },
        {
          "output_type": "stream",
          "name": "stderr",
          "text": [
            "/usr/local/lib/python3.10/dist-packages/sklearn/linear_model/_logistic.py:458: ConvergenceWarning: lbfgs failed to converge (status=1):\n",
            "STOP: TOTAL NO. of ITERATIONS REACHED LIMIT.\n",
            "\n",
            "Increase the number of iterations (max_iter) or scale the data as shown in:\n",
            "    https://scikit-learn.org/stable/modules/preprocessing.html\n",
            "Please also refer to the documentation for alternative solver options:\n",
            "    https://scikit-learn.org/stable/modules/linear_model.html#logistic-regression\n",
            "  n_iter_i = _check_optimize_result(\n"
          ]
        },
        {
          "output_type": "stream",
          "name": "stdout",
          "text": [
            "79/79 [==============================] - 10s 113ms/step\n",
            "Voting Classifier 2 Accuracy: 0.8338632750397457\n"
          ]
        }
      ]
    },
    {
      "cell_type": "code",
      "source": [
        "from sklearn.base import BaseEstimator, ClassifierMixin\n",
        "from sklearn.ensemble import VotingClassifier\n",
        "from sklearn.metrics import accuracy_score\n",
        "from nltk.sentiment import SentimentIntensityAnalyzer\n",
        "\n",
        "# custom classifier for VADER sentiment analysis\n",
        "class VaderClassifier(BaseEstimator, ClassifierMixin):\n",
        "    def __init__(self, threshold=0.1):\n",
        "        self.threshold = threshold\n",
        "        self.sid = SentimentIntensityAnalyzer()\n",
        "\n",
        "    def fit(self, X, y):\n",
        "        return self\n",
        "\n",
        "    def predict(self, X):\n",
        "        preds = []\n",
        "        for text in X:\n",
        "            scores = self.sid.polarity_scores(text)\n",
        "            compound_score = scores['compound']\n",
        "            pred = 1 if compound_score >= self.threshold else 0\n",
        "            preds.append(pred)\n",
        "        return preds\n",
        "\n",
        "# create the VADER classifier\n",
        "vader_clf = VaderClassifier(threshold=0.1)\n",
        "\n",
        "# create the final VotingClassifier with vader_clf and voting_clf2\n",
        "final_voting_clf = VotingClassifier(estimators=[('vader', vader_clf), ('voting_clf2', voting_clf2)], voting='soft')\n",
        "final_voting_clf.fit(X_train_padded, y_train)\n",
        "final_preds = final_voting_clf.predict(X_test_padded)\n",
        "print('Final Voting Classifier Accuracy:', accuracy_score(y_test, final_preds))\n",
        "# final_voting_clf = VotingClassifier(estimators=[('vader', vader_clf), ('voting_clf2', voting_clf2)], voting='soft')\n",
        "# final_voting_clf.fit(X_train_padded, y_train)\n",
        "# final_preds = final_voting_clf.predict(X_test_padded)\n",
        "# print('Final Voting Classifier Accuracy:', accuracy_score(y_test, final_preds))"
      ],
      "metadata": {
        "colab": {
          "base_uri": "https://localhost:8080/",
          "height": 382
        },
        "id": "o1v3FZnuKzZ-",
        "outputId": "40e3ed3d-3611-456c-e4b9-27c1960e31f7"
      },
      "execution_count": null,
      "outputs": [
        {
          "output_type": "error",
          "ename": "ValueError",
          "evalue": "ignored",
          "traceback": [
            "\u001b[0;31m---------------------------------------------------------------------------\u001b[0m",
            "\u001b[0;31mValueError\u001b[0m                                Traceback (most recent call last)",
            "\u001b[0;32m<ipython-input-32-6615e7b27354>\u001b[0m in \u001b[0;36m<cell line: 22>\u001b[0;34m()\u001b[0m\n\u001b[1;32m     20\u001b[0m \u001b[0;31m# Create the final VotingClassifier with vader_clf and voting_clf2\u001b[0m\u001b[0;34m\u001b[0m\u001b[0;34m\u001b[0m\u001b[0m\n\u001b[1;32m     21\u001b[0m \u001b[0mfinal_voting_clf\u001b[0m \u001b[0;34m=\u001b[0m \u001b[0mVotingClassifier\u001b[0m\u001b[0;34m(\u001b[0m\u001b[0mestimators\u001b[0m\u001b[0;34m=\u001b[0m\u001b[0;34m[\u001b[0m\u001b[0;34m(\u001b[0m\u001b[0;34m'vader'\u001b[0m\u001b[0;34m,\u001b[0m \u001b[0mvader_clf\u001b[0m\u001b[0;34m)\u001b[0m\u001b[0;34m,\u001b[0m \u001b[0;34m(\u001b[0m\u001b[0;34m'voting_clf2'\u001b[0m\u001b[0;34m,\u001b[0m \u001b[0mvoting_clf2\u001b[0m\u001b[0;34m)\u001b[0m\u001b[0;34m]\u001b[0m\u001b[0;34m,\u001b[0m \u001b[0mvoting\u001b[0m\u001b[0;34m=\u001b[0m\u001b[0;34m'soft'\u001b[0m\u001b[0;34m)\u001b[0m\u001b[0;34m\u001b[0m\u001b[0;34m\u001b[0m\u001b[0m\n\u001b[0;32m---> 22\u001b[0;31m \u001b[0mfinal_voting_clf\u001b[0m\u001b[0;34m.\u001b[0m\u001b[0mfit\u001b[0m\u001b[0;34m(\u001b[0m\u001b[0mX_train_padded\u001b[0m\u001b[0;34m,\u001b[0m \u001b[0my_train\u001b[0m\u001b[0;34m)\u001b[0m\u001b[0;34m\u001b[0m\u001b[0;34m\u001b[0m\u001b[0m\n\u001b[0m\u001b[1;32m     23\u001b[0m \u001b[0mfinal_preds\u001b[0m \u001b[0;34m=\u001b[0m \u001b[0mfinal_voting_clf\u001b[0m\u001b[0;34m.\u001b[0m\u001b[0mpredict\u001b[0m\u001b[0;34m(\u001b[0m\u001b[0mX_test_padded\u001b[0m\u001b[0;34m)\u001b[0m\u001b[0;34m\u001b[0m\u001b[0;34m\u001b[0m\u001b[0m\n\u001b[1;32m     24\u001b[0m \u001b[0mprint\u001b[0m\u001b[0;34m(\u001b[0m\u001b[0;34m'Final Voting Classifier Accuracy:'\u001b[0m\u001b[0;34m,\u001b[0m \u001b[0maccuracy_score\u001b[0m\u001b[0;34m(\u001b[0m\u001b[0my_test\u001b[0m\u001b[0;34m,\u001b[0m \u001b[0mfinal_preds\u001b[0m\u001b[0;34m)\u001b[0m\u001b[0;34m)\u001b[0m\u001b[0;34m\u001b[0m\u001b[0;34m\u001b[0m\u001b[0m\n",
            "\u001b[0;32m/usr/local/lib/python3.10/dist-packages/sklearn/ensemble/_voting.py\u001b[0m in \u001b[0;36mfit\u001b[0;34m(self, X, y, sample_weight)\u001b[0m\n\u001b[1;32m    344\u001b[0m         \u001b[0mtransformed_y\u001b[0m \u001b[0;34m=\u001b[0m \u001b[0mself\u001b[0m\u001b[0;34m.\u001b[0m\u001b[0mle_\u001b[0m\u001b[0;34m.\u001b[0m\u001b[0mtransform\u001b[0m\u001b[0;34m(\u001b[0m\u001b[0my\u001b[0m\u001b[0;34m)\u001b[0m\u001b[0;34m\u001b[0m\u001b[0;34m\u001b[0m\u001b[0m\n\u001b[1;32m    345\u001b[0m \u001b[0;34m\u001b[0m\u001b[0m\n\u001b[0;32m--> 346\u001b[0;31m         \u001b[0;32mreturn\u001b[0m \u001b[0msuper\u001b[0m\u001b[0;34m(\u001b[0m\u001b[0;34m)\u001b[0m\u001b[0;34m.\u001b[0m\u001b[0mfit\u001b[0m\u001b[0;34m(\u001b[0m\u001b[0mX\u001b[0m\u001b[0;34m,\u001b[0m \u001b[0mtransformed_y\u001b[0m\u001b[0;34m,\u001b[0m \u001b[0msample_weight\u001b[0m\u001b[0;34m)\u001b[0m\u001b[0;34m\u001b[0m\u001b[0;34m\u001b[0m\u001b[0m\n\u001b[0m\u001b[1;32m    347\u001b[0m \u001b[0;34m\u001b[0m\u001b[0m\n\u001b[1;32m    348\u001b[0m     \u001b[0;32mdef\u001b[0m \u001b[0mpredict\u001b[0m\u001b[0;34m(\u001b[0m\u001b[0mself\u001b[0m\u001b[0;34m,\u001b[0m \u001b[0mX\u001b[0m\u001b[0;34m)\u001b[0m\u001b[0;34m:\u001b[0m\u001b[0;34m\u001b[0m\u001b[0;34m\u001b[0m\u001b[0m\n",
            "\u001b[0;32m/usr/local/lib/python3.10/dist-packages/sklearn/ensemble/_voting.py\u001b[0m in \u001b[0;36mfit\u001b[0;34m(self, X, y, sample_weight)\u001b[0m\n\u001b[1;32m     71\u001b[0m     \u001b[0;32mdef\u001b[0m \u001b[0mfit\u001b[0m\u001b[0;34m(\u001b[0m\u001b[0mself\u001b[0m\u001b[0;34m,\u001b[0m \u001b[0mX\u001b[0m\u001b[0;34m,\u001b[0m \u001b[0my\u001b[0m\u001b[0;34m,\u001b[0m \u001b[0msample_weight\u001b[0m\u001b[0;34m=\u001b[0m\u001b[0;32mNone\u001b[0m\u001b[0;34m)\u001b[0m\u001b[0;34m:\u001b[0m\u001b[0;34m\u001b[0m\u001b[0;34m\u001b[0m\u001b[0m\n\u001b[1;32m     72\u001b[0m         \u001b[0;34m\"\"\"Get common fit operations.\"\"\"\u001b[0m\u001b[0;34m\u001b[0m\u001b[0;34m\u001b[0m\u001b[0m\n\u001b[0;32m---> 73\u001b[0;31m         \u001b[0mnames\u001b[0m\u001b[0;34m,\u001b[0m \u001b[0mclfs\u001b[0m \u001b[0;34m=\u001b[0m \u001b[0mself\u001b[0m\u001b[0;34m.\u001b[0m\u001b[0m_validate_estimators\u001b[0m\u001b[0;34m(\u001b[0m\u001b[0;34m)\u001b[0m\u001b[0;34m\u001b[0m\u001b[0;34m\u001b[0m\u001b[0m\n\u001b[0m\u001b[1;32m     74\u001b[0m \u001b[0;34m\u001b[0m\u001b[0m\n\u001b[1;32m     75\u001b[0m         \u001b[0;32mif\u001b[0m \u001b[0mself\u001b[0m\u001b[0;34m.\u001b[0m\u001b[0mweights\u001b[0m \u001b[0;32mis\u001b[0m \u001b[0;32mnot\u001b[0m \u001b[0;32mNone\u001b[0m \u001b[0;32mand\u001b[0m \u001b[0mlen\u001b[0m\u001b[0;34m(\u001b[0m\u001b[0mself\u001b[0m\u001b[0;34m.\u001b[0m\u001b[0mweights\u001b[0m\u001b[0;34m)\u001b[0m \u001b[0;34m!=\u001b[0m \u001b[0mlen\u001b[0m\u001b[0;34m(\u001b[0m\u001b[0mself\u001b[0m\u001b[0;34m.\u001b[0m\u001b[0mestimators\u001b[0m\u001b[0;34m)\u001b[0m\u001b[0;34m:\u001b[0m\u001b[0;34m\u001b[0m\u001b[0;34m\u001b[0m\u001b[0m\n",
            "\u001b[0;32m/usr/local/lib/python3.10/dist-packages/sklearn/ensemble/_base.py\u001b[0m in \u001b[0;36m_validate_estimators\u001b[0;34m(self)\u001b[0m\n\u001b[1;32m    295\u001b[0m         \u001b[0;32mfor\u001b[0m \u001b[0mest\u001b[0m \u001b[0;32min\u001b[0m \u001b[0mestimators\u001b[0m\u001b[0;34m:\u001b[0m\u001b[0;34m\u001b[0m\u001b[0;34m\u001b[0m\u001b[0m\n\u001b[1;32m    296\u001b[0m             \u001b[0;32mif\u001b[0m \u001b[0mest\u001b[0m \u001b[0;34m!=\u001b[0m \u001b[0;34m\"drop\"\u001b[0m \u001b[0;32mand\u001b[0m \u001b[0;32mnot\u001b[0m \u001b[0mis_estimator_type\u001b[0m\u001b[0;34m(\u001b[0m\u001b[0mest\u001b[0m\u001b[0;34m)\u001b[0m\u001b[0;34m:\u001b[0m\u001b[0;34m\u001b[0m\u001b[0;34m\u001b[0m\u001b[0m\n\u001b[0;32m--> 297\u001b[0;31m                 raise ValueError(\n\u001b[0m\u001b[1;32m    298\u001b[0m                     \"The estimator {} should be a {}.\".format(\n\u001b[1;32m    299\u001b[0m                         \u001b[0mest\u001b[0m\u001b[0;34m.\u001b[0m\u001b[0m__class__\u001b[0m\u001b[0;34m.\u001b[0m\u001b[0m__name__\u001b[0m\u001b[0;34m,\u001b[0m \u001b[0mis_estimator_type\u001b[0m\u001b[0;34m.\u001b[0m\u001b[0m__name__\u001b[0m\u001b[0;34m[\u001b[0m\u001b[0;36m3\u001b[0m\u001b[0;34m:\u001b[0m\u001b[0;34m]\u001b[0m\u001b[0;34m\u001b[0m\u001b[0;34m\u001b[0m\u001b[0m\n",
            "\u001b[0;31mValueError\u001b[0m: The estimator SentimentIntensityAnalyzer should be a classifier."
          ]
        }
      ]
    },
    {
      "cell_type": "code",
      "source": [],
      "metadata": {
        "id": "cDy_hn1-dNiG"
      },
      "execution_count": null,
      "outputs": []
    }
  ],
  "metadata": {
    "colab": {
      "provenance": []
    },
    "kernelspec": {
      "display_name": "Python 3",
      "name": "python3"
    },
    "language_info": {
      "name": "python"
    }
  },
  "nbformat": 4,
  "nbformat_minor": 0
}