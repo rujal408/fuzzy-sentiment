{
 "cells": [
  {
   "cell_type": "code",
   "execution_count": 1,
   "id": "15809b2b",
   "metadata": {
    "id": "15809b2b"
   },
   "outputs": [
    {
     "name": "stderr",
     "output_type": "stream",
     "text": [
      "2023-05-22 19:38:24.553950: I tensorflow/core/platform/cpu_feature_guard.cc:193] This TensorFlow binary is optimized with oneAPI Deep Neural Network Library (oneDNN) to use the following CPU instructions in performance-critical operations:  AVX2 FMA\n",
      "To enable them in other operations, rebuild TensorFlow with the appropriate compiler flags.\n"
     ]
    }
   ],
   "source": [
    "# utilities\n",
    "import re\n",
    "import numpy as np\n",
    "import pandas as pd\n",
    "# plotting\n",
    "# import seaborn as sns\n",
    "# from wordcloud import WordCloud\n",
    "import matplotlib.pyplot as plt\n",
    "from nltk.stem import WordNetLemmatizer\n",
    "# sklearn\n",
    "from sklearn.model_selection import train_test_split\n",
    "from sklearn.metrics import confusion_matrix, classification_report\n",
    "import string\n",
    "import nltk\n",
    "from nltk.corpus import stopwords\n",
    "from nltk.stem import WordNetLemmatizer\n",
    "from nltk.stem import PorterStemmer\n",
    "from sklearn.feature_extraction.text import CountVectorizer,TfidfVectorizer\n",
    "from nltk.sentiment.vader import SentimentIntensityAnalyzer\n",
    "from sklearn.linear_model import LogisticRegression\n",
    "from sklearn.svm import SVC\n",
    "from sklearn.model_selection import GridSearchCV, train_test_split\n",
    "from sklearn.metrics import accuracy_score\n",
    "import tensorflow as tf\n",
    "from keras.preprocessing.text import Tokenizer\n",
    "from tensorflow.keras.preprocessing.sequence import pad_sequences\n",
    "from tensorflow.keras.models import Sequential\n",
    "from tensorflow.keras.layers import Dense, Dropout, Embedding, LSTM, Bidirectional\n",
    "from tensorflow.keras.preprocessing.text import text_to_word_sequence\n",
    "# !pip install nltk\n",
    "# !pip install tensorflow\n",
    "# nltk.download('punkt')\n",
    "# nltk.download('stopwords')\n",
    "# nltk.download('wordnet')"
   ]
  },
  {
   "cell_type": "code",
   "execution_count": 2,
   "id": "5a9fb1b7",
   "metadata": {
    "colab": {
     "base_uri": "https://localhost:8080/",
     "height": 664
    },
    "id": "5a9fb1b7",
    "outputId": "fddf9b95-bed2-46db-8d01-2dc8f73157f3"
   },
   "outputs": [
    {
     "name": "stdout",
     "output_type": "stream",
     "text": [
      "1.0 -1.0 37427\n"
     ]
    },
    {
     "data": {
      "text/html": [
       "<div>\n",
       "<style scoped>\n",
       "    .dataframe tbody tr th:only-of-type {\n",
       "        vertical-align: middle;\n",
       "    }\n",
       "\n",
       "    .dataframe tbody tr th {\n",
       "        vertical-align: top;\n",
       "    }\n",
       "\n",
       "    .dataframe thead th {\n",
       "        text-align: right;\n",
       "    }\n",
       "</style>\n",
       "<table border=\"1\" class=\"dataframe\">\n",
       "  <thead>\n",
       "    <tr style=\"text-align: right;\">\n",
       "      <th></th>\n",
       "      <th>App</th>\n",
       "      <th>Translated_Review</th>\n",
       "      <th>sentences_count</th>\n",
       "      <th>characters_count</th>\n",
       "      <th>spaces_count</th>\n",
       "      <th>count_words</th>\n",
       "      <th>duplicates_count</th>\n",
       "      <th>chars_excl_spaces_count</th>\n",
       "      <th>emoji_count</th>\n",
       "      <th>whole_numbers_count</th>\n",
       "      <th>...</th>\n",
       "      <th>spelling_quality</th>\n",
       "      <th>spelling_quality_summarised</th>\n",
       "      <th>ease_of_reading_score</th>\n",
       "      <th>ease_of_reading_quality</th>\n",
       "      <th>ease_of_reading_summarised</th>\n",
       "      <th>grammar_check_score</th>\n",
       "      <th>grammar_check</th>\n",
       "      <th>original_Sentiment</th>\n",
       "      <th>original_Sentiment_Polarity</th>\n",
       "      <th>original_Sentiment_Subjectivity</th>\n",
       "    </tr>\n",
       "  </thead>\n",
       "  <tbody>\n",
       "    <tr>\n",
       "      <th>0</th>\n",
       "      <td>10 Best Foods for You</td>\n",
       "      <td>I like eat delicious food. That's I'm cooking ...</td>\n",
       "      <td>2.0</td>\n",
       "      <td>122.0</td>\n",
       "      <td>20.0</td>\n",
       "      <td>22.0</td>\n",
       "      <td>6.0</td>\n",
       "      <td>102.0</td>\n",
       "      <td>0.0</td>\n",
       "      <td>1.0</td>\n",
       "      <td>...</td>\n",
       "      <td>Bad</td>\n",
       "      <td>Bad</td>\n",
       "      <td>86.20</td>\n",
       "      <td>Easy</td>\n",
       "      <td>Easy</td>\n",
       "      <td>5.0</td>\n",
       "      <td>5 issues</td>\n",
       "      <td>Positive</td>\n",
       "      <td>1.00</td>\n",
       "      <td>0.533333</td>\n",
       "    </tr>\n",
       "    <tr>\n",
       "      <th>1</th>\n",
       "      <td>10 Best Foods for You</td>\n",
       "      <td>This help eating healthy exercise regular basis</td>\n",
       "      <td>1.0</td>\n",
       "      <td>47.0</td>\n",
       "      <td>6.0</td>\n",
       "      <td>7.0</td>\n",
       "      <td>0.0</td>\n",
       "      <td>41.0</td>\n",
       "      <td>0.0</td>\n",
       "      <td>0.0</td>\n",
       "      <td>...</td>\n",
       "      <td>Very good</td>\n",
       "      <td>Good</td>\n",
       "      <td>38.99</td>\n",
       "      <td>Difficult</td>\n",
       "      <td>Difficult</td>\n",
       "      <td>0.0</td>\n",
       "      <td>No issues</td>\n",
       "      <td>Positive</td>\n",
       "      <td>0.25</td>\n",
       "      <td>0.288462</td>\n",
       "    </tr>\n",
       "    <tr>\n",
       "      <th>3</th>\n",
       "      <td>10 Best Foods for You</td>\n",
       "      <td>Works great especially going grocery store</td>\n",
       "      <td>1.0</td>\n",
       "      <td>42.0</td>\n",
       "      <td>5.0</td>\n",
       "      <td>6.0</td>\n",
       "      <td>0.0</td>\n",
       "      <td>37.0</td>\n",
       "      <td>0.0</td>\n",
       "      <td>0.0</td>\n",
       "      <td>...</td>\n",
       "      <td>Very good</td>\n",
       "      <td>Good</td>\n",
       "      <td>48.47</td>\n",
       "      <td>Difficult</td>\n",
       "      <td>Difficult</td>\n",
       "      <td>0.0</td>\n",
       "      <td>No issues</td>\n",
       "      <td>Positive</td>\n",
       "      <td>0.40</td>\n",
       "      <td>0.875000</td>\n",
       "    </tr>\n",
       "    <tr>\n",
       "      <th>4</th>\n",
       "      <td>10 Best Foods for You</td>\n",
       "      <td>Best idea us</td>\n",
       "      <td>1.0</td>\n",
       "      <td>12.0</td>\n",
       "      <td>2.0</td>\n",
       "      <td>3.0</td>\n",
       "      <td>0.0</td>\n",
       "      <td>10.0</td>\n",
       "      <td>0.0</td>\n",
       "      <td>0.0</td>\n",
       "      <td>...</td>\n",
       "      <td>Very good</td>\n",
       "      <td>Good</td>\n",
       "      <td>119.19</td>\n",
       "      <td>Very Easy</td>\n",
       "      <td>Easy</td>\n",
       "      <td>1.0</td>\n",
       "      <td>1 issue</td>\n",
       "      <td>Positive</td>\n",
       "      <td>1.00</td>\n",
       "      <td>0.300000</td>\n",
       "    </tr>\n",
       "    <tr>\n",
       "      <th>5</th>\n",
       "      <td>10 Best Foods for You</td>\n",
       "      <td>Best way</td>\n",
       "      <td>1.0</td>\n",
       "      <td>8.0</td>\n",
       "      <td>1.0</td>\n",
       "      <td>2.0</td>\n",
       "      <td>0.0</td>\n",
       "      <td>7.0</td>\n",
       "      <td>0.0</td>\n",
       "      <td>0.0</td>\n",
       "      <td>...</td>\n",
       "      <td>Very good</td>\n",
       "      <td>Good</td>\n",
       "      <td>120.21</td>\n",
       "      <td>Very Easy</td>\n",
       "      <td>Easy</td>\n",
       "      <td>0.0</td>\n",
       "      <td>No issues</td>\n",
       "      <td>Positive</td>\n",
       "      <td>1.00</td>\n",
       "      <td>0.300000</td>\n",
       "    </tr>\n",
       "  </tbody>\n",
       "</table>\n",
       "<p>5 rows × 33 columns</p>\n",
       "</div>"
      ],
      "text/plain": [
       "                     App                                  Translated_Review  \\\n",
       "0  10 Best Foods for You  I like eat delicious food. That's I'm cooking ...   \n",
       "1  10 Best Foods for You    This help eating healthy exercise regular basis   \n",
       "3  10 Best Foods for You         Works great especially going grocery store   \n",
       "4  10 Best Foods for You                                       Best idea us   \n",
       "5  10 Best Foods for You                                           Best way   \n",
       "\n",
       "   sentences_count  characters_count  spaces_count  count_words  \\\n",
       "0              2.0             122.0          20.0         22.0   \n",
       "1              1.0              47.0           6.0          7.0   \n",
       "3              1.0              42.0           5.0          6.0   \n",
       "4              1.0              12.0           2.0          3.0   \n",
       "5              1.0               8.0           1.0          2.0   \n",
       "\n",
       "   duplicates_count  chars_excl_spaces_count  emoji_count  \\\n",
       "0               6.0                    102.0          0.0   \n",
       "1               0.0                     41.0          0.0   \n",
       "3               0.0                     37.0          0.0   \n",
       "4               0.0                     10.0          0.0   \n",
       "5               0.0                      7.0          0.0   \n",
       "\n",
       "   whole_numbers_count  ...  spelling_quality  spelling_quality_summarised  \\\n",
       "0                  1.0  ...               Bad                          Bad   \n",
       "1                  0.0  ...         Very good                         Good   \n",
       "3                  0.0  ...         Very good                         Good   \n",
       "4                  0.0  ...         Very good                         Good   \n",
       "5                  0.0  ...         Very good                         Good   \n",
       "\n",
       "   ease_of_reading_score  ease_of_reading_quality  ease_of_reading_summarised  \\\n",
       "0                  86.20                     Easy                        Easy   \n",
       "1                  38.99                Difficult                   Difficult   \n",
       "3                  48.47                Difficult                   Difficult   \n",
       "4                 119.19                Very Easy                        Easy   \n",
       "5                 120.21                Very Easy                        Easy   \n",
       "\n",
       "   grammar_check_score  grammar_check original_Sentiment  \\\n",
       "0                  5.0       5 issues           Positive   \n",
       "1                  0.0      No issues           Positive   \n",
       "3                  0.0      No issues           Positive   \n",
       "4                  1.0        1 issue           Positive   \n",
       "5                  0.0      No issues           Positive   \n",
       "\n",
       "  original_Sentiment_Polarity  original_Sentiment_Subjectivity  \n",
       "0                        1.00                         0.533333  \n",
       "1                        0.25                         0.288462  \n",
       "3                        0.40                         0.875000  \n",
       "4                        1.00                         0.300000  \n",
       "5                        1.00                         0.300000  \n",
       "\n",
       "[5 rows x 33 columns]"
      ]
     },
     "execution_count": 2,
     "metadata": {},
     "output_type": "execute_result"
    }
   ],
   "source": [
    "# Data Preparation\n",
    "csv_data = pd.read_csv('extended_googleplaystore_user_reviews.csv')\n",
    "csv_data = csv_data[csv_data['Translated_Review'].notna()]\n",
    "p=csv_data['original_Sentiment_Polarity'].max()\n",
    "q=csv_data['original_Sentiment_Polarity'].min()\n",
    "\n",
    "print(p,q,len(csv_data))\n",
    "csv_data.head()\n"
   ]
  },
  {
   "cell_type": "code",
   "execution_count": 3,
   "id": "c69cdcfe",
   "metadata": {
    "id": "c69cdcfe"
   },
   "outputs": [],
   "source": [
    "class SentimentSatisfaction:\n",
    "    def __init__(self,satisfaction_index):\n",
    "        self.satisfaction_index = satisfaction_index\n",
    "    def get_sentiment_satisfaction(self):\n",
    "        if self.satisfaction_index <= -0.6:\n",
    "            return 0\n",
    "        elif self.satisfaction_index <= -0.2:\n",
    "            return 1\n",
    "        elif self.satisfaction_index <= 0.2:\n",
    "            return 2\n",
    "        elif self.satisfaction_index <= 0.6:\n",
    "            return 3\n",
    "        else:\n",
    "            return 4\n",
    "\n",
    "satisfaction_class = {\n",
    "    \"very_negative\":0,\n",
    "    \"negative\":1,\n",
    "    \"neutral\":2,\n",
    "    \"positive\":3,\n",
    "    \"very_positive\":4\n",
    "    }\n",
    "csv_data['result'] = csv_data['original_Sentiment_Polarity'].apply(lambda x:SentimentSatisfaction(x).get_sentiment_satisfaction())"
   ]
  },
  {
   "cell_type": "code",
   "execution_count": 4,
   "id": "068a1476",
   "metadata": {
    "colab": {
     "base_uri": "https://localhost:8080/",
     "height": 206
    },
    "id": "068a1476",
    "outputId": "91eb880f-1aea-4a6d-b7cd-0c2a1b6dd64d"
   },
   "outputs": [
    {
     "data": {
      "text/html": [
       "<div>\n",
       "<style scoped>\n",
       "    .dataframe tbody tr th:only-of-type {\n",
       "        vertical-align: middle;\n",
       "    }\n",
       "\n",
       "    .dataframe tbody tr th {\n",
       "        vertical-align: top;\n",
       "    }\n",
       "\n",
       "    .dataframe thead th {\n",
       "        text-align: right;\n",
       "    }\n",
       "</style>\n",
       "<table border=\"1\" class=\"dataframe\">\n",
       "  <thead>\n",
       "    <tr style=\"text-align: right;\">\n",
       "      <th></th>\n",
       "      <th>Translated_Review</th>\n",
       "      <th>result</th>\n",
       "      <th>original_Sentiment_Polarity</th>\n",
       "    </tr>\n",
       "  </thead>\n",
       "  <tbody>\n",
       "    <tr>\n",
       "      <th>0</th>\n",
       "      <td>I like eat delicious food. That's I'm cooking ...</td>\n",
       "      <td>4</td>\n",
       "      <td>1.00</td>\n",
       "    </tr>\n",
       "    <tr>\n",
       "      <th>1</th>\n",
       "      <td>This help eating healthy exercise regular basis</td>\n",
       "      <td>3</td>\n",
       "      <td>0.25</td>\n",
       "    </tr>\n",
       "    <tr>\n",
       "      <th>3</th>\n",
       "      <td>Works great especially going grocery store</td>\n",
       "      <td>3</td>\n",
       "      <td>0.40</td>\n",
       "    </tr>\n",
       "    <tr>\n",
       "      <th>4</th>\n",
       "      <td>Best idea us</td>\n",
       "      <td>4</td>\n",
       "      <td>1.00</td>\n",
       "    </tr>\n",
       "    <tr>\n",
       "      <th>5</th>\n",
       "      <td>Best way</td>\n",
       "      <td>4</td>\n",
       "      <td>1.00</td>\n",
       "    </tr>\n",
       "  </tbody>\n",
       "</table>\n",
       "</div>"
      ],
      "text/plain": [
       "                                   Translated_Review  result  \\\n",
       "0  I like eat delicious food. That's I'm cooking ...       4   \n",
       "1    This help eating healthy exercise regular basis       3   \n",
       "3         Works great especially going grocery store       3   \n",
       "4                                       Best idea us       4   \n",
       "5                                           Best way       4   \n",
       "\n",
       "   original_Sentiment_Polarity  \n",
       "0                         1.00  \n",
       "1                         0.25  \n",
       "3                         0.40  \n",
       "4                         1.00  \n",
       "5                         1.00  "
      ]
     },
     "execution_count": 4,
     "metadata": {},
     "output_type": "execute_result"
    }
   ],
   "source": [
    "data = csv_data.copy()\n",
    "data = csv_data[['Translated_Review','result','original_Sentiment_Polarity']]\n",
    "# Shuffle Row Order\n",
    "# data = data.sample(frac=1).reset_index(drop=True)\n",
    "data.head()"
   ]
  },
  {
   "cell_type": "code",
   "execution_count": 5,
   "id": "0d78a0e5",
   "metadata": {
    "colab": {
     "base_uri": "https://localhost:8080/",
     "height": 747
    },
    "id": "0d78a0e5",
    "outputId": "c5b68fa5-98ac-4667-ce1b-f483a10f6269"
   },
   "outputs": [
    {
     "name": "stderr",
     "output_type": "stream",
     "text": [
      "/home/rujal/notebook/jupyterenv/lib/python3.8/site-packages/pandas/core/indexing.py:1773: SettingWithCopyWarning: \n",
      "A value is trying to be set on a copy of a slice from a DataFrame.\n",
      "Try using .loc[row_indexer,col_indexer] = value instead\n",
      "\n",
      "See the caveats in the documentation: https://pandas.pydata.org/pandas-docs/stable/user_guide/indexing.html#returning-a-view-versus-a-copy\n",
      "  self._setitem_single_column(ilocs[0], value, pi)\n"
     ]
    },
    {
     "data": {
      "text/html": [
       "<div>\n",
       "<style scoped>\n",
       "    .dataframe tbody tr th:only-of-type {\n",
       "        vertical-align: middle;\n",
       "    }\n",
       "\n",
       "    .dataframe tbody tr th {\n",
       "        vertical-align: top;\n",
       "    }\n",
       "\n",
       "    .dataframe thead th {\n",
       "        text-align: right;\n",
       "    }\n",
       "</style>\n",
       "<table border=\"1\" class=\"dataframe\">\n",
       "  <thead>\n",
       "    <tr style=\"text-align: right;\">\n",
       "      <th></th>\n",
       "      <th>Translated_Review</th>\n",
       "      <th>result</th>\n",
       "      <th>original_Sentiment_Polarity</th>\n",
       "    </tr>\n",
       "  </thead>\n",
       "  <tbody>\n",
       "    <tr>\n",
       "      <th>0</th>\n",
       "      <td>like eat delicious food cooking food case best...</td>\n",
       "      <td>4</td>\n",
       "      <td>1.00</td>\n",
       "    </tr>\n",
       "    <tr>\n",
       "      <th>1</th>\n",
       "      <td>help eating healthy exercise regular basis</td>\n",
       "      <td>3</td>\n",
       "      <td>0.25</td>\n",
       "    </tr>\n",
       "    <tr>\n",
       "      <th>3</th>\n",
       "      <td>work great especially going grocery store</td>\n",
       "      <td>3</td>\n",
       "      <td>0.40</td>\n",
       "    </tr>\n",
       "    <tr>\n",
       "      <th>4</th>\n",
       "      <td>best idea u</td>\n",
       "      <td>4</td>\n",
       "      <td>1.00</td>\n",
       "    </tr>\n",
       "    <tr>\n",
       "      <th>5</th>\n",
       "      <td>best way</td>\n",
       "      <td>4</td>\n",
       "      <td>1.00</td>\n",
       "    </tr>\n",
       "  </tbody>\n",
       "</table>\n",
       "</div>"
      ],
      "text/plain": [
       "                                   Translated_Review  result  \\\n",
       "0  like eat delicious food cooking food case best...       4   \n",
       "1         help eating healthy exercise regular basis       3   \n",
       "3          work great especially going grocery store       3   \n",
       "4                                        best idea u       4   \n",
       "5                                           best way       4   \n",
       "\n",
       "   original_Sentiment_Polarity  \n",
       "0                         1.00  \n",
       "1                         0.25  \n",
       "3                         0.40  \n",
       "4                         1.00  \n",
       "5                         1.00  "
      ]
     },
     "execution_count": 5,
     "metadata": {},
     "output_type": "execute_result"
    }
   ],
   "source": [
    "#-------------------------------------------------------------------------------------------------------------\n",
    "# Cleaning and Wrangling of Data\n",
    "#-------------------------------------------------------------------------------------------------------------\n",
    "\n",
    "# Remove URLs and mentions from text\n",
    "data.loc[:,'Translated_Review'] = data['Translated_Review'].apply(lambda x: re.sub(r'http\\S+', '', x))\n",
    "data.loc[:,'Translated_Review'] = data['Translated_Review'].apply(lambda x: re.sub(r'@\\S+', '', x))\n",
    "\n",
    "\n",
    "\n",
    "# Remove non-alphabetic characters and convert to lowercase\n",
    "data.loc[:,'Translated_Review'] = data['Translated_Review'].apply(lambda x: re.sub('[^a-zA-Z]', ' ', x.lower()))\n",
    "\n",
    "# Tokenize text\n",
    "data.loc[:,'Translated_Review'] = data['Translated_Review'].apply(lambda x: nltk.word_tokenize(x))\n",
    "data.loc[:,'Translated_Review'] = data['Translated_Review'].apply(lambda x: [value for value in x if not re.match(r'^-?\\d+\\.?\\d*$', value)])\n",
    "\n",
    "\n",
    "# Remove stopwords\n",
    "stop_words = stopwords.words('english')\n",
    "data.loc[:,'Translated_Review'] = data['Translated_Review'].apply(lambda x: [word for word in x if word not in stop_words])\n",
    "\n",
    "# Lemmatize text\n",
    "lemmatizer = WordNetLemmatizer()\n",
    "data.loc[:,'Translated_Review'] = data['Translated_Review'].apply(lambda x: [lemmatizer.lemmatize(word) for word in x])\n",
    "\n",
    "# Join tokens back into strings\n",
    "data.loc[:,'Translated_Review'] = data['Translated_Review'].apply(lambda x: ' '.join(x))\n",
    "data.head()"
   ]
  },
  {
   "cell_type": "code",
   "execution_count": 6,
   "id": "44255d7b",
   "metadata": {
    "id": "44255d7b"
   },
   "outputs": [],
   "source": [
    "# For Machine Learning\n",
    "m_data = data.copy()\n",
    "review_data = m_data['Translated_Review']\n",
    "result_data = m_data['result']"
   ]
  },
  {
   "cell_type": "code",
   "execution_count": 9,
   "id": "91361c32",
   "metadata": {
    "id": "91361c32"
   },
   "outputs": [
    {
     "name": "stdout",
     "output_type": "stream",
     "text": [
      "Accuracy: 0.8262089233235372\n"
     ]
    },
    {
     "name": "stderr",
     "output_type": "stream",
     "text": [
      "/home/rujal/notebook/jupyterenv/lib/python3.8/site-packages/sklearn/linear_model/_logistic.py:814: ConvergenceWarning: lbfgs failed to converge (status=1):\n",
      "STOP: TOTAL NO. of ITERATIONS REACHED LIMIT.\n",
      "\n",
      "Increase the number of iterations (max_iter) or scale the data as shown in:\n",
      "    https://scikit-learn.org/stable/modules/preprocessing.html\n",
      "Please also refer to the documentation for alternative solver options:\n",
      "    https://scikit-learn.org/stable/modules/linear_model.html#logistic-regression\n",
      "  n_iter_i = _check_optimize_result(\n"
     ]
    }
   ],
   "source": [
    "#-------------------------------------------------------------------------------------------------------------\n",
    "# Preprocessing of Data \n",
    "#-------------------------------------------------------------------------------------------------------------\n",
    "\n",
    "# Create a CountVectorizer object\n",
    "vectorizer = CountVectorizer()\n",
    "\n",
    "# Fit and transform the data using the vectorizer object\n",
    "c_vectorized_data = vectorizer.fit_transform(review_data)\n",
    "c_model = LogisticRegression()\n",
    "X_train_c, X_test_c, y_train_c, y_test_c = train_test_split(c_vectorized_data, result_data, test_size=0.2,random_state=42)\n",
    "c_model.fit(X_train_c, y_train_c)\n",
    "\n",
    "# Use the best model to make predictions\n",
    "y_pred_c = c_model.predict(X_test_c)\n",
    "\n",
    "# Evaluate the accuracy of the model\n",
    "accuracy = accuracy_score(y_test_c, y_pred_c)\n",
    "print(\"Accuracy:\", accuracy)"
   ]
  },
  {
   "cell_type": "code",
   "execution_count": 16,
   "id": "474b230a",
   "metadata": {
    "id": "474b230a"
   },
   "outputs": [
    {
     "name": "stdout",
     "output_type": "stream",
     "text": [
      "Accuracy: 0.8322201442693027\n"
     ]
    },
    {
     "name": "stderr",
     "output_type": "stream",
     "text": [
      "/home/rujal/notebook/jupyterenv/lib/python3.8/site-packages/sklearn/linear_model/_logistic.py:814: ConvergenceWarning: lbfgs failed to converge (status=1):\n",
      "STOP: TOTAL NO. of ITERATIONS REACHED LIMIT.\n",
      "\n",
      "Increase the number of iterations (max_iter) or scale the data as shown in:\n",
      "    https://scikit-learn.org/stable/modules/preprocessing.html\n",
      "Please also refer to the documentation for alternative solver options:\n",
      "    https://scikit-learn.org/stable/modules/linear_model.html#logistic-regression\n",
      "  n_iter_i = _check_optimize_result(\n"
     ]
    }
   ],
   "source": [
    "# Create a Tf-IDF Vectorizer object\n",
    "t_vectorized_data = TfidfVectorizer()\n",
    "t_vectorized_data.fit(review_data)\n",
    "\n",
    "# Fit and transform the data using the vectorizer object\n",
    "t_vectorized_data = vectorizer.transform(review_data)\n",
    "tf_model = LogisticRegression()\n",
    "X_train_tf, X_test_tf, y_train_tf, y_test_tf = train_test_split(t_vectorized_data, result_data, test_size=0.2,random_state=42)\n",
    "tf_model.fit(X_train_tf, y_train_tf)\n",
    "\n",
    "# Use the best model to make predictions\n",
    "y_pred_tf = tf_model.predict(X_test_tf)\n",
    "\n",
    "# Evaluate the accuracy of the model\n",
    "accuracy = accuracy_score(y_test_tf, y_pred_tf)\n",
    "print(\"Accuracy:\", accuracy)"
   ]
  },
  {
   "cell_type": "code",
   "execution_count": 13,
   "id": "45ef18fe",
   "metadata": {
    "colab": {
     "base_uri": "https://localhost:8080/",
     "height": 1000
    },
    "id": "45ef18fe",
    "outputId": "4fbb5ab4-f7b0-4633-f657-f49ee876a8f8"
   },
   "outputs": [
    {
     "name": "stderr",
     "output_type": "stream",
     "text": [
      "/home/rujal/notebook/jupyterenv/lib/python3.8/site-packages/sklearn/linear_model/_sag.py:352: ConvergenceWarning: The max_iter was reached which means the coef_ did not converge\n",
      "  warnings.warn(\n",
      "/home/rujal/notebook/jupyterenv/lib/python3.8/site-packages/sklearn/linear_model/_sag.py:352: ConvergenceWarning: The max_iter was reached which means the coef_ did not converge\n",
      "  warnings.warn(\n",
      "/home/rujal/notebook/jupyterenv/lib/python3.8/site-packages/sklearn/linear_model/_sag.py:352: ConvergenceWarning: The max_iter was reached which means the coef_ did not converge\n",
      "  warnings.warn(\n",
      "/home/rujal/notebook/jupyterenv/lib/python3.8/site-packages/sklearn/linear_model/_sag.py:352: ConvergenceWarning: The max_iter was reached which means the coef_ did not converge\n",
      "  warnings.warn(\n",
      "/home/rujal/notebook/jupyterenv/lib/python3.8/site-packages/sklearn/linear_model/_sag.py:352: ConvergenceWarning: The max_iter was reached which means the coef_ did not converge\n",
      "  warnings.warn(\n",
      "/home/rujal/notebook/jupyterenv/lib/python3.8/site-packages/sklearn/linear_model/_sag.py:352: ConvergenceWarning: The max_iter was reached which means the coef_ did not converge\n",
      "  warnings.warn(\n",
      "/tmp/ipykernel_9468/389729577.py:43: UserWarning: Tight layout not applied. The bottom and top margins cannot be made large enough to accommodate all axes decorations.\n",
      "  plt.tight_layout()\n"
     ]
    },
    {
     "data": {
      "image/png": "[encoded data removed]",
      "text/plain": [
       "<Figure size 864x432 with 1 Axes>"
      ]
     },
     "metadata": {
      "needs_background": "light"
     },
     "output_type": "display_data"
    },
    {
     "name": "stdout",
     "output_type": "stream",
     "text": [
      "Accuracy: 0.8401015228426396\n"
     ]
    }
   ],
   "source": [
    "# Logistic Regression and Count Vectorizer\n",
    "# Split the dataset into training and testing sets\n",
    "X_train_lr, X_test_lr, y_train_lr, y_test_lr = train_test_split(t_vectorized_data, result_data, test_size=0.2,random_state=42)\n",
    "# Train a machine learning model on the training set\n",
    "lr_model = LogisticRegression()\n",
    "\n",
    "# For HyperParameter Tuning\n",
    "param_grid={\n",
    "    'warm_start': [True], \n",
    "    'solver': ['sag'], \n",
    "    'penalty': ['l2'], \n",
    "    'max_iter': [200], \n",
    "    'C': [206.913808111479]\n",
    "}\n",
    "\n",
    "# Perform random search with cross-validation\n",
    "grid_search = GridSearchCV(lr_model, param_grid=param_grid, cv=5)\n",
    "\n",
    "grid_search.fit(X_train_lr, y_train_lr)\n",
    "\n",
    "# Get the best hyperparameters and model\n",
    "best_params = grid_search.best_params_\n",
    "best_model = grid_search.best_estimator_\n",
    "\n",
    "# Use the best model to make predictions\n",
    "y_pred_lr = best_model.predict(X_test_lr)\n",
    "\n",
    "# Evaluate the accuracy of the model\n",
    "accuracy = accuracy_score(y_test_lr, y_pred_lr)\n",
    "\n",
    "# For Plot\n",
    "results = grid_search.cv_results_\n",
    "params = results['params']\n",
    "mean_test_scores = results['mean_test_score']\n",
    "# Evaluate the accuracy of the model\n",
    "# Plot the accuracy scores\n",
    "plt.figure(figsize=(12, 6))\n",
    "plt.bar(range(len(params)), mean_test_scores, align='center', alpha=0.8)\n",
    "plt.xticks(range(len(params)), [str(p) for p in params], rotation='vertical')\n",
    "plt.xlabel('Hyperparameters')\n",
    "plt.ylabel('Mean Test Score')\n",
    "plt.title('GridSearchCV Results - Logistic Regression')\n",
    "plt.tight_layout()\n",
    "plt.show()\n",
    "print(\"Accuracy:\", accuracy)"
   ]
  },
  {
   "cell_type": "code",
   "execution_count": null,
   "id": "e3e9d8b1",
   "metadata": {
    "id": "e3e9d8b1"
   },
   "outputs": [],
   "source": [
    "# For TFIDF and Support Vector Machine\n",
    "# Train a machine learning model on the training set\n",
    "t_l_model = SVC()\n",
    "\n",
    "t_l_model.fit(X_train, y_train)\n",
    "\n",
    "# Use the best model to make predictions\n",
    "y_pred = t_l_model.predict(X_test)\n",
    "\n",
    "# Evaluate the accuracy of the model\n",
    "accuracy = accuracy_score(y_test, y_pred)\n",
    "print(\"Accuracy:\", accuracy)\n"
   ]
  },
  {
   "cell_type": "code",
   "execution_count": null,
   "id": "80127478",
   "metadata": {
    "id": "80127478"
   },
   "outputs": [],
   "source": [
    "# For Deep Learning\n",
    "d_data = data.copy()\n",
    "d_data = d_data[['Translated_Review','result']]\n",
    "texts = d_data['Translated_Review']\n",
    "sentiment = d_data['result']\n",
    "\n",
    "# consider only the top 10000 words\n",
    "max_words = 20000 \n",
    "\n",
    "# Tokenize the texts\n",
    "tokenizer = Tokenizer(num_words=17599)\n",
    "tokenizer.fit_on_texts(texts)\n",
    "sequences = tokenizer.texts_to_sequences(texts)\n",
    "\n",
    "# Pad sequences to have the same length\n",
    "max_len = max(len(sequence) for sequence in sequences)\n",
    "padded_sequences = pad_sequences(sequences, maxlen=301)\n"
   ]
  },
  {
   "cell_type": "code",
   "execution_count": null,
   "id": "39b57952",
   "metadata": {
    "colab": {
     "base_uri": "https://localhost:8080/",
     "height": 1000
    },
    "id": "39b57952",
    "outputId": "13cce24b-8741-404a-e35a-5814c00d11e8"
   },
   "outputs": [
    {
     "name": "stdout",
     "output_type": "stream",
     "text": [
      "Epoch 1/10\n",
      "936/936 [==============================] - 903s 954ms/step - loss: 0.7368 - accuracy: 0.6910 - val_loss: 0.4954 - val_accuracy: 0.8086\n",
      "Epoch 2/10\n",
      "936/936 [==============================] - 869s 929ms/step - loss: 0.3558 - accuracy: 0.8708 - val_loss: 0.3952 - val_accuracy: 0.8561\n",
      "Epoch 3/10\n",
      "936/936 [==============================] - 858s 917ms/step - loss: 0.2302 - accuracy: 0.9254 - val_loss: 0.4230 - val_accuracy: 0.8489\n",
      "Epoch 4/10\n",
      "936/936 [==============================] - 849s 907ms/step - loss: 0.1712 - accuracy: 0.9456 - val_loss: 0.4238 - val_accuracy: 0.8659\n",
      "Epoch 5/10\n",
      "936/936 [==============================] - 856s 915ms/step - loss: 0.1309 - accuracy: 0.9598 - val_loss: 0.4710 - val_accuracy: 0.8686\n",
      "Epoch 6/10\n",
      "936/936 [==============================] - 807s 863ms/step - loss: 0.1056 - accuracy: 0.9671 - val_loss: 0.5375 - val_accuracy: 0.8607\n",
      "Epoch 7/10\n",
      "936/936 [==============================] - 798s 852ms/step - loss: 0.0909 - accuracy: 0.9725 - val_loss: 0.5220 - val_accuracy: 0.8648\n",
      "Epoch 8/10\n",
      "936/936 [==============================] - 784s 837ms/step - loss: 0.0775 - accuracy: 0.9771 - val_loss: 0.5719 - val_accuracy: 0.8611\n",
      "Epoch 9/10\n",
      "936/936 [==============================] - 834s 891ms/step - loss: 0.0724 - accuracy: 0.9775 - val_loss: 0.5640 - val_accuracy: 0.8581\n",
      "Epoch 10/10\n",
      "936/936 [==============================] - 846s 903ms/step - loss: 0.0596 - accuracy: 0.9817 - val_loss: 0.6052 - val_accuracy: 0.8643\n"
     ]
    },
    {
     "data": {
      "image/png": "[encoded data removed]",
      "text/plain": [
       "<Figure size 640x480 with 1 Axes>"
      ]
     },
     "metadata": {},
     "output_type": "display_data"
    },
    {
     "data": {
      "image/png": "[encoded data removed]",
      "text/plain": [
       "<Figure size 640x480 with 1 Axes>"
      ]
     },
     "metadata": {},
     "output_type": "display_data"
    }
   ],
   "source": [
    "X_train_bi, X_test_bi, y_train_bi, y_test_bi = train_test_split(padded_sequences, sentiment, test_size=0.2, random_state=42)\n",
    "\n",
    "# Define the BiLSTM model\n",
    "bi_model = Sequential()\n",
    "bi_model.add(Embedding(len(tokenizer.word_index) + 1, 100, input_length=max_len))\n",
    "bi_model.add(Bidirectional(LSTM(64, return_sequences=True)))\n",
    "bi_model.add(Bidirectional(LSTM(64)))\n",
    "bi_model.add(Dense(64, activation='relu'))\n",
    "bi_model.add(Dense(5, activation='softmax'))  # 5 classes for fuzzy sentiment analysis\n",
    "\n",
    "# Compile the bi_model\n",
    "bi_model.compile(loss='sparse_categorical_crossentropy', optimizer='adam', metrics=['accuracy'])\n",
    "\n",
    "# Train the bi_model\n",
    "history = bi_model.fit(X_train_bi, y_train_bi, validation_data=(X_test_bi, y_test_bi), epochs=10, batch_size=32)\n",
    "\n",
    "accuracy = history.history.get('accuracy')\n",
    "val_acc = history.history.get('val_accuracy')\n",
    "loss = history.history.get('loss')\n",
    "val_loss = history.history.get('val_loss')\n",
    "\n",
    "epochs = range(1, len(accuracy) + 1)\n",
    "plt.plot(epochs, accuracy, 'bo', label='Training Acc')\n",
    "plt.plot(epochs, val_acc, 'b', label='Validation Acc')\n",
    "plt.title('Training and Validation Accuracy')\n",
    "plt.legend()\n",
    "\n",
    "plt.figure()\n",
    "\n",
    "plt.plot(epochs, loss, 'bo', label=\"Training Loss\")\n",
    "plt.plot(epochs, val_loss, 'b', label='Validation loss')\n",
    "plt.title('Training and Validation loss')\n",
    "plt.legend()\n",
    "plt.show()"
   ]
  },
  {
   "cell_type": "code",
   "execution_count": 42,
   "id": "d79a7c6f",
   "metadata": {
    "id": "d79a7c6f"
   },
   "outputs": [
    {
     "name": "stdout",
     "output_type": "stream",
     "text": [
      "                                       Translated_Review  result  \\\n",
      "0      like eat delicious food cooking food case best...       4   \n",
      "1             help eating healthy exercise regular basis       3   \n",
      "3              work great especially going grocery store       3   \n",
      "4                                            best idea u       4   \n",
      "5                                               best way       4   \n",
      "...                                                  ...     ...   \n",
      "64222  ad older many agent much owner posted detail r...       2   \n",
      "64223  photo posted portal load fit purpose sure stor...       3   \n",
      "64226  dumb app wanted post property rent give option...       1   \n",
      "64227  property business got link sm happy performanc...       4   \n",
      "64230  useless app searched flat kondapur hyderabad n...       1   \n",
      "\n",
      "       original_Sentiment_Polarity  sentiment_score  predicted_label  \n",
      "0                         1.000000            0.534                3  \n",
      "1                         0.250000            0.519                3  \n",
      "3                         0.400000            0.451                3  \n",
      "4                         1.000000            0.677                4  \n",
      "5                         1.000000            0.808                4  \n",
      "...                            ...              ...              ...  \n",
      "64222                     0.173333           -0.238                1  \n",
      "64223                     0.225000            0.233                3  \n",
      "64226                    -0.287500           -0.337                1  \n",
      "64227                     0.800000            0.362                3  \n",
      "64230                    -0.316667            0.659                4  \n",
      "\n",
      "[37427 rows x 5 columns]\n",
      "Accuracy: 0.3938600475592487\n"
     ]
    }
   ],
   "source": [
    "# For Polarity Score Estimation\n",
    "p_data = data.copy()\n",
    "sia = SentimentIntensityAnalyzer()\n",
    "sentiment_scores = []\n",
    "for review in csv_data['Translated_Review']:\n",
    "    scores = sia.polarity_scores(review)\n",
    "    positive_score = scores['pos']\n",
    "    negative_score = scores['neg']\n",
    "    neutral_score = scores['neu']\n",
    "    compound_score = scores['compound']\n",
    "    sentiment=0.0\n",
    "    if compound_score > 0.2:\n",
    "        sentiment = positive_score\n",
    "    elif compound_score < -0.2:\n",
    "        sentiment = -negative_score\n",
    "    else:\n",
    "        sentiment = neutral_score\n",
    "    sentiment_scores.append(sentiment)\n",
    "p_data['sentiment_score'] = sentiment_scores\n",
    "p_data['predicted_label'] = p_data['sentiment_score'].apply(lambda x:SentimentSatisfaction(x).get_sentiment_satisfaction())\n",
    "\n",
    "accuracy = accuracy_score(p_data['result'], p_data['predicted_label'])\n",
    "print(p_data)\n",
    "print(\"Accuracy:\", accuracy)"
   ]
  },
  {
   "cell_type": "code",
   "execution_count": null,
   "id": "bBVO7F4Dl5yf",
   "metadata": {
    "id": "bBVO7F4Dl5yf"
   },
   "outputs": [],
   "source": [
    "# Compounding LogisticRegression and BiLSTM\n",
    "# Convert the BiLSTM predictions to a 1D array\n",
    "lr_predictions = grid_search.predict(X_test_lr)\n",
    "bilstm_predictions = bi_model.predict(X_test_bi)\n",
    "y_test_lr = y_test_lr  # y_test_lr corresponding to X_test_lr for Logistic Regression\n",
    "y_test_bilstm = y_test_bi  # y_test_bilstm corresponding to X_test_bilstm for BiLSTM\n",
    "bilstm_predictions = np.squeeze(bilstm_predictions)\n",
    "\n",
    "# Convert the Logistic Regression predictions to match the shape of the BiLSTM predictions\n",
    "lr_predictions = np.expand_dims(lr_predictions, axis=1)\n",
    "\n",
    "# Print the accuracy of each model\n",
    "print(\"Logistic Regression Accuracy:\", np.mean(lr_predictions == y_test_lr))\n",
    "print(\"BiLSTM Accuracy:\", np.mean(bilstm_predictions == y_test_bi))\n",
    "\n",
    "# Define the ensemble predictions\n",
    "ensemble_predictions = np.round((lr_predictions + bilstm_predictions) / 2).astype(int)\n",
    "\n",
    "# Print the accuracy of the ensemble model\n",
    "print(\"Ensemble Model Accuracy:\", np.mean(ensemble_predictions == y_test_lr)) # Assuming using y_test_lr for evaluation"
   ]
  },
  {
   "cell_type": "code",
   "execution_count": 37,
   "id": "a112d3c3",
   "metadata": {},
   "outputs": [
    {
     "name": "stdout",
     "output_type": "stream",
     "text": [
      "Positive without preprocessing {'neg': 0.0, 'neu': 0.508, 'pos': 0.492, 'compound': 0.4404}\n",
      "Positive with preprocessing {'neg': 0.0, 'neu': 0.256, 'pos': 0.744, 'compound': 0.4404}\n",
      "Negative without preprocessing {'neg': 0.0, 'neu': 0.508, 'pos': 0.492, 'compound': 0.4404}\n",
      "Negative with preprocessing {'neg': 0.0, 'neu': 0.482, 'pos': 0.518, 'compound': 0.9531}\n"
     ]
    }
   ],
   "source": [
    "sia = SentimentIntensityAnalyzer()\n",
    "print(\"Positive without preprocessing\",sia.polarity_scores('This is a good car'))\n",
    "print(\"Positive with preprocessing\",sia.polarity_scores('good car'))\n",
    "print(\"Negative without preprocessing\",sia.polarity_scores('This is a good car'))\n",
    "print(\"Negative with preprocessing\",sia.polarity_scores('I like eat delicious food. That is I am cooking food myself, case 10 Best Foods helps lot, also Best Before (Shelf Life)'))"
   ]
  }
 ],
 "metadata": {
  "colab": {
   "provenance": []
  },
  "kernelspec": {
   "display_name": "Python 3 (ipykernel)",
   "language": "python",
   "name": "python3"
  },
  "language_info": {
   "codemirror_mode": {
    "name": "ipython",
    "version": 3
   },
   "file_extension": ".py",
   "mimetype": "text/x-python",
   "name": "python",
   "nbconvert_exporter": "python",
   "pygments_lexer": "ipython3",
   "version": "3.8.10"
  }
 },
 "nbformat": 4,
 "nbformat_minor": 5
}
